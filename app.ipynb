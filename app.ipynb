{
 "cells": [
  {
   "cell_type": "markdown",
   "id": "c6176981",
   "metadata": {},
   "source": [
    "##### First Block - Imports"
   ]
  },
  {
   "cell_type": "code",
   "execution_count": 1,
   "id": "d71323e3",
   "metadata": {},
   "outputs": [],
   "source": [
    "from Functions.readFiles import read_heavy_file\n",
    "from Functions.mysqlConnectionDB import mysql_db_connection\n",
    "from Functions.mysqlConnectionDB import create_table_mysql_db\n",
    "from Functions.mysqlConnectionDB import insert_data_mysql_db\n",
    "from Functions.mysqlConnectionDB import close_mysql_connection"
   ]
  },
  {
   "cell_type": "markdown",
   "id": "0c7f5ebf",
   "metadata": {},
   "source": [
    "##### Second Block - Read the heavy file"
   ]
  },
  {
   "cell_type": "code",
   "execution_count": 2,
   "id": "7b50e436",
   "metadata": {},
   "outputs": [
    {
     "name": "stdout",
     "output_type": "stream",
     "text": [
      "Proceso: Archivo leido correctamente!\n",
      "Proceso: primeros 20 registros obtenidos\n"
     ]
    }
   ],
   "source": [
    "df_data = read_heavy_file()"
   ]
  },
  {
   "cell_type": "markdown",
   "id": "1c8cc7fe",
   "metadata": {},
   "source": [
    "##### Third Block - Connect to Mysql data base"
   ]
  },
  {
   "cell_type": "code",
   "execution_count": 3,
   "id": "8faaa386",
   "metadata": {},
   "outputs": [
    {
     "name": "stdout",
     "output_type": "stream",
     "text": [
      "Proceso: Conexión exitosa a la base de datos!\n"
     ]
    }
   ],
   "source": [
    "mysql_connection = mysql_db_connection()\n"
   ]
  },
  {
   "cell_type": "markdown",
   "id": "2291c8a6",
   "metadata": {},
   "source": [
    "##### Fourth Block - Create table in Mysql data base"
   ]
  },
  {
   "cell_type": "code",
   "execution_count": 4,
   "id": "3504b628",
   "metadata": {},
   "outputs": [
    {
     "name": "stdout",
     "output_type": "stream",
     "text": [
      "Proceso: La tabla heavy_logs_timba ya existe.\n"
     ]
    }
   ],
   "source": [
    "table_name = \"heavy_logs_timba\"\n",
    "df_data_columns = df_data.columns\n",
    "\n",
    "#print(f\"Proceso: \",data_columns)\n",
    "\n",
    "columns_to_list = df_data_columns.to_list()\n",
    "#print(f\"Proceso: \",columns_to_list)\n",
    "#print(type(columns_to_list))\n",
    "\n",
    "script_create_table = create_table_mysql_db(mysql_connection, table_name, columns_to_list)"
   ]
  },
  {
   "cell_type": "markdown",
   "id": "fd086998",
   "metadata": {},
   "source": [
    "##### Fifth Block - Data insert in MySQL DB "
   ]
  },
  {
   "cell_type": "code",
   "execution_count": 5,
   "id": "b8c730e1",
   "metadata": {},
   "outputs": [
    {
     "name": "stdout",
     "output_type": "stream",
     "text": [
      "Proceso: Datos insertados correctamente en la tabla heavy_logs_timba.\n",
      "Total de inserciones procesadas: 20 \n"
     ]
    }
   ],
   "source": [
    "script_insert_data = insert_data_mysql_db(mysql_connection, table_name, columns_to_list, df_data)"
   ]
  },
  {
   "cell_type": "markdown",
   "id": "ab883a13",
   "metadata": {},
   "source": [
    "##### Sixth Block - Close de MySQL Database connection "
   ]
  },
  {
   "cell_type": "code",
   "execution_count": 6,
   "id": "93dc7505",
   "metadata": {},
   "outputs": [
    {
     "name": "stdout",
     "output_type": "stream",
     "text": [
      "Conexión cerrada\n"
     ]
    }
   ],
   "source": [
    "close_mysql_db_connection = close_mysql_connection(mysql_connection)"
   ]
  }
 ],
 "metadata": {
  "kernelspec": {
   "display_name": "heavyDataProject",
   "language": "python",
   "name": "python3"
  },
  "language_info": {
   "codemirror_mode": {
    "name": "ipython",
    "version": 3
   },
   "file_extension": ".py",
   "mimetype": "text/x-python",
   "name": "python",
   "nbconvert_exporter": "python",
   "pygments_lexer": "ipython3",
   "version": "3.8.20"
  }
 },
 "nbformat": 4,
 "nbformat_minor": 5
}
