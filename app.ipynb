{
 "cells": [
  {
   "cell_type": "markdown",
   "id": "c6176981",
   "metadata": {},
   "source": [
    "##### First Block - Imports"
   ]
  },
  {
   "cell_type": "code",
   "execution_count": 1,
   "id": "d71323e3",
   "metadata": {},
   "outputs": [],
   "source": [
    "from Functions.readFiles import read_heavy_file\n",
    "from Functions.mysqlConnectionDB import mysql_db_connection\n",
    "from Functions.mysqlConnectionDB import create_table_mysql_db"
   ]
  },
  {
   "cell_type": "markdown",
   "id": "0c7f5ebf",
   "metadata": {},
   "source": [
    "##### Second Block - Read the heavy file"
   ]
  },
  {
   "cell_type": "code",
   "execution_count": 2,
   "id": "7b50e436",
   "metadata": {},
   "outputs": [
    {
     "name": "stdout",
     "output_type": "stream",
     "text": [
      "Proceso: Archivo leido correctamente!\n",
      "Proceso: primeros 50 registros obtenidos\n"
     ]
    }
   ],
   "source": [
    "data = read_heavy_file()"
   ]
  },
  {
   "cell_type": "markdown",
   "id": "1c8cc7fe",
   "metadata": {},
   "source": [
    "##### Third Block - Connect to Mysql data base"
   ]
  },
  {
   "cell_type": "code",
   "execution_count": 3,
   "id": "8faaa386",
   "metadata": {},
   "outputs": [
    {
     "name": "stdout",
     "output_type": "stream",
     "text": [
      "Proceso: Conexión exitosa a la base de datos!\n"
     ]
    }
   ],
   "source": [
    "mysql_connection = mysql_db_connection()\n"
   ]
  },
  {
   "cell_type": "markdown",
   "id": "2291c8a6",
   "metadata": {},
   "source": [
    "##### Fourth Block - Create table in Mysql data base"
   ]
  },
  {
   "cell_type": "code",
   "execution_count": 4,
   "id": "3504b628",
   "metadata": {},
   "outputs": [
    {
     "name": "stdout",
     "output_type": "stream",
     "text": [
      "Tabla heavy_logs_timba creada exitosamente.\n"
     ]
    }
   ],
   "source": [
    "table_name = \"heavy_logs_timba\"\n",
    "data_columns = data.columns\n",
    "\n",
    "#print(f\"Proceso: \",data_columns)\n",
    "\n",
    "columns_to_list = data_columns.to_list()\n",
    "#print(f\"Proceso: \",columns_to_list)\n",
    "#print(type(columns_to_list))\n",
    "\n",
    "script_create_table = create_table_mysql_db(mysql_connection, table_name, columns_to_list)"
   ]
  }
 ],
 "metadata": {
  "kernelspec": {
   "display_name": "heavyDataProject",
   "language": "python",
   "name": "python3"
  },
  "language_info": {
   "codemirror_mode": {
    "name": "ipython",
    "version": 3
   },
   "file_extension": ".py",
   "mimetype": "text/x-python",
   "name": "python",
   "nbconvert_exporter": "python",
   "pygments_lexer": "ipython3",
   "version": "3.8.20"
  }
 },
 "nbformat": 4,
 "nbformat_minor": 5
}
