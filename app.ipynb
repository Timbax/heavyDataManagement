{
 "cells": [
  {
   "cell_type": "code",
   "execution_count": 1,
   "id": "d71323e3",
   "metadata": {},
   "outputs": [
    {
     "name": "stdout",
     "output_type": "stream",
     "text": [
      "Error al leer el archivo: [Errno 2] No such file or directory: './files/2024-09-14_2024-09-15_Consolidation_recov.txt'\n"
     ]
    }
   ],
   "source": [
    "from Functions.readFiles import read_heavy_file\n",
    "\n",
    "data = read_heavy_file()"
   ]
  }
 ],
 "metadata": {
  "kernelspec": {
   "display_name": "heavyDataProject",
   "language": "python",
   "name": "python3"
  },
  "language_info": {
   "codemirror_mode": {
    "name": "ipython",
    "version": 3
   },
   "file_extension": ".py",
   "mimetype": "text/x-python",
   "name": "python",
   "nbconvert_exporter": "python",
   "pygments_lexer": "ipython3",
   "version": "3.8.20"
  }
 },
 "nbformat": 4,
 "nbformat_minor": 5
}
